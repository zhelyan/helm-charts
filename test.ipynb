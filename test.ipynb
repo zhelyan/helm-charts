{
 "cells": [
  {
   "cell_type": "markdown",
   "metadata": {},
   "source": [
    "# External Secrets Operator\n",
    "Installs the [external secrets secrets operator](https://external-secrets.io/latest/)\n",
    "## Updates\n",
    "+ update the the Helm chart version in the component\n",
    "+ update the CRDs version in ca-cdk-constructs - see https://github.com/citizensadvice/ca-cdk-constructs#kubernetes--aws-eks"
   ]
  }
 ],
 "metadata": {
  "anaconda-cloud": {},
  "kernelspec": {
   "display_name": "Python 3",
   "language": "python",
   "name": "python3"
  },
  "language_info": {
   "codemirror_mode": {
    "name": "ipython",
    "version": 3
   },
   "file_extension": ".py",
   "mimetype": "text/x-python",
   "name": "python",
   "nbconvert_exporter": "python",
   "pygments_lexer": "ipython3",
   "version": "3.7.2"
  }
 },
 "nbformat": 4,
 "nbformat_minor": 1
}
